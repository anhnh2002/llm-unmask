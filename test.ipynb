{
 "cells": [
  {
   "cell_type": "code",
   "execution_count": 1,
   "metadata": {},
   "outputs": [
    {
     "name": "stderr",
     "output_type": "stream",
     "text": [
      "/Users/anhnguyenhoang/Desktop/vscode/python3.10/.venv/lib/python3.10/site-packages/transformers/tokenization_utils_base.py:1601: FutureWarning: `clean_up_tokenization_spaces` was not set. It will be set to `True` by default. This behavior will be depracted in transformers v4.45, and will be then set to `False` by default. For more details check this issue: https://github.com/huggingface/transformers/issues/31884\n",
      "  warnings.warn(\n"
     ]
    }
   ],
   "source": [
    "from transformers import AutoTokenizer\n",
    "\n",
    "tokenizer = AutoTokenizer.from_pretrained(\"bert-base-uncased\")\n",
    "t_tokenizer = AutoTokenizer.from_pretrained(\"McGill-NLP/LLM2Vec-Meta-Llama-3-8B-Instruct-mntp\")"
   ]
  },
  {
   "cell_type": "code",
   "execution_count": 5,
   "metadata": {},
   "outputs": [],
   "source": [
    "import json, os\n",
    "\n",
    "def load(path):\n",
    "    with open(path) as f:\n",
    "        data = [json.loads(line) for line in f]\n",
    "    return data\n",
    "\n",
    "dataset_names = [\"MAVEN\", \"ACE\"]\n",
    "perm_ids = [0, 1, 2, 3, 4]\n",
    "\n",
    "root=\"./data_incremental_2\"\n",
    "\n",
    "# for name in dataset_names:\n",
    "#     root_name = root + \"/\" + name + \"/\"\n",
    "#     test_path = root_name + f\"{name}.test.jsonl\"\n",
    "#     for \n"
   ]
  },
  {
   "cell_type": "code",
   "execution_count": 15,
   "metadata": {},
   "outputs": [],
   "source": [
    "data = load(\"./data/processed/raw_ace/dev.json\")"
   ]
  },
  {
   "cell_type": "code",
   "execution_count": 16,
   "metadata": {},
   "outputs": [],
   "source": [
    "with open(\"./data/processed/ace/dev.json\", \"w\") as f:\n",
    "    for row in data:\n",
    "        n_events = []\n",
    "        for event in row[\"event_mentions\"]:\n",
    "            if (event[\"event_type\"] == \"Contact:Phone-Write\") or (event[\"event_type\"] == \"Movement:Transport\"):\n",
    "                n_events.append(event)\n",
    "        row[\"event_mentions\"] = n_events\n",
    "        if len(n_events) > 0:\n",
    "            f.write(json.dumps(row) + \"\\n\")"
   ]
  },
  {
   "cell_type": "code",
   "execution_count": 12,
   "metadata": {},
   "outputs": [],
   "source": [
    "# data = load(\"./raw_data/test.oneie.json\")\n",
    "# e_data = []\n",
    "# with open(\"./raw_data_step2/test.json\", \"w\") as f:\n",
    "#     for row in data:\n",
    "#         if len(row[\"event_mentions\"]) != 0:\n",
    "#             row[\"sentence\"] = t_tokenizer.decode(t_tokenizer.encode(row[\"sentence\"]), skip_special_tokens=True)\n",
    "#             f.write(json.dumps(row) + \"\\n\")\n",
    "            "
   ]
  },
  {
   "cell_type": "code",
   "execution_count": null,
   "metadata": {},
   "outputs": [],
   "source": [
    "# raw_data = load(\"./raw_data_step2/test.json\")\n",
    "# map_ = {}\n",
    "# for i, row in enumerate(raw_data):\n",
    "#     map_[row[\"sentence\"].lower()] = i\n",
    "\n",
    "# data = load(\"../CFED-HANet/data_incremental_2/ACE/ACE.test.jsonl\")\n",
    "\n",
    "# with open(\"./data/processed/ace/test.json\", \"w\") as f:\n",
    "#     for i in range(len(data)):\n",
    "#         f.write(json.dumps(raw_data[i]) + \"\\n\")"
   ]
  },
  {
   "cell_type": "code",
   "execution_count": 35,
   "metadata": {},
   "outputs": [],
   "source": [
    "raw_data = load(\"./raw_data_step2/train.json\")\n",
    "# map_ = {}\n",
    "# for i, row in enumerate(raw_data):\n",
    "#     map_[row[\"sentence\"].lower()] = i\n",
    "\n",
    "# data = load(\"../CFED-HANet/data_incremental_2/ACE/ACE.test.jsonl\")\n",
    "\n",
    "with open(\"./data/processed/ace/train.json\", \"w\") as f:\n",
    "    for row in raw_data:\n",
    "        for event in row[\"event_mentions\"]:\n",
    "            if (event[\"event_type\"] == \"Contact:Phone-Write\") or (event[\"event_type\"] == \"Movement:Transport\"):\n",
    "                f.write(json.dumps(row) + \"\\n\")\n",
    "                break"
   ]
  },
  {
   "cell_type": "code",
   "execution_count": 32,
   "metadata": {},
   "outputs": [
    {
     "data": {
      "text/plain": [
       "'Movement:Transport'"
      ]
     },
     "execution_count": 32,
     "metadata": {},
     "output_type": "execute_result"
    }
   ],
   "source": [
    "raw_data[0][\"event_mentions\"][0][\"event_type\"]"
   ]
  },
  {
   "cell_type": "code",
   "execution_count": 55,
   "metadata": {},
   "outputs": [
    {
     "name": "stdout",
     "output_type": "stream",
     "text": [
      "0\n"
     ]
    }
   ],
   "source": [
    "raw_data = load(\"./data/processed/ace/train_raw.json\")\n",
    "map_ = {}\n",
    "count = 0\n",
    "select = []\n",
    "for i, row in enumerate(raw_data):\n",
    "    for event in row[\"event_mentions\"]:\n",
    "        if (event[\"event_type\"] == \"Contact:Phone-Write\"):\n",
    "            select.append(i)\n",
    "            break\n",
    "    text = row[\"sentence\"].lower()[10:40]\n",
    "    if text not in map_:\n",
    "        map_[text] = i\n",
    "    else:\n",
    "        count += 1\n",
    "        print(text)\n",
    "print(count)\n",
    "data = load(\"../CFED-HANet/data_incremental_2/ACE/ACE_5task_2way_1shot.train.jsonl\")"
   ]
  },
  {
   "cell_type": "code",
   "execution_count": 56,
   "metadata": {},
   "outputs": [
    {
     "name": "stdout",
     "output_type": "stream",
     "text": [
      "2 7 as we watched this picture of the air force one getting into this airport i want to bring in our military analyst general dan crisman to go over what happens happening in baghdad.\n",
      "2 14 well, the homeless people -- i guess, they need their shopping cart, so they kind of went elsewhere, so -- um -- i mean it's a small thing, but it was, they just figured out, they were -- you know, uh -- learning from experience on what they need to do in the -- city and -- i think he would be a good -- candidate for the homeland security, running that.\n",
      "2 23 as we watched this picture of the air force one getting into this airport i want to bring in our military analyst general dan crisman to go over what happens happening in baghdad.\n",
      "2 31 a reminder, jessica lynch coming back to the united states within the hour.\n",
      "2 32 we are not expecting to drive into baghdad suddenly and seize it in a coup de mains, or anything like that.\n",
      "2 37 he was sent over right next to the persian gulf now since new year's eve.\n",
      "2 38 - well, my sister usually comes in from ohio because it's not that far like -- two hundred fifty miles or something, and she'll come in for thanksgiving.\n",
      "2 44 through multinational middlemen, de lozada resigned and fled the country on october 17, 2003.\n",
      "2 45 yeah, and they c - the come home to nothing after g - all they've gone through they come home and they have nothing.\n",
      "2 47 the people of tikrit are saying saddam's family left that city three days ago, well before the americans arrived.\n",
      "2 52 i've been to your lovely state once before, down in the hollers.\n",
      "2 65 in fact, we just got back from disney world, you know, about an hour ago and they're down there and they're but they're both, uh,\n",
      "2 67 well, as american forces do push ahead toward the iraqi government's key center of power, british forces are keeping up their work to the south of the iraqi capital.\n",
      "2 73 are you coming here?\n",
      "2 77 he didn't get his papers where he's going to be c -- - he's in upstate new york right now but he's going to -- have to probably go back to - to either iraq or af - afghanistan.\n",
      "2 83 they say they're looking forward to going home, which relatives of one former p. o. w.\n",
      "2 92 but, uh, at at least for the ceremony in egypt i think, uh, i can understand that no one would want to go into -- palestinian territory.\n",
      "2 99 for the next 12 hours into the morning, planes from the carrier will fly missions over afghanistan.\n"
     ]
    }
   ],
   "source": [
    "new_data = {}\n",
    "ignore = []\n",
    "for key in data[0].keys():\n",
    "    new_data[key] = {}\n",
    "    for i, row in enumerate(data[0][key]):\n",
    "        if key == \"9\":\n",
    "            continue\n",
    "        text = tokenizer.decode(row[\"piece_ids\"], skip_special_tokens=True).replace(\"u. s.\", \"u.s.\").replace(\"- -\", \"--\")\n",
    "        if text[0] == \"_\":\n",
    "            text = text[1:].strip()\n",
    "\n",
    "        try:\n",
    "            new_data[key][i] = map_[text[10:40]]\n",
    "            select.append(map_[text[10:40]])\n",
    "        except:\n",
    "            print(key, i, text)"
   ]
  },
  {
   "cell_type": "code",
   "execution_count": null,
   "metadata": {},
   "outputs": [],
   "source": [
    "[?, 323, ?, 116, 468, 27, 104, 355, 561, 368, 122, 348, ?, ?, 73, ?, 207, 336, 252]"
   ]
  },
  {
   "cell_type": "code",
   "execution_count": 57,
   "metadata": {},
   "outputs": [],
   "source": [
    "select += [323, 116, 468, 27, 104, 355, 561, 368, 122, 348, 73, 207, 336, 252]"
   ]
  },
  {
   "cell_type": "code",
   "execution_count": 58,
   "metadata": {},
   "outputs": [],
   "source": [
    "select += [266, 274, 298, 277, 301]"
   ]
  },
  {
   "cell_type": "code",
   "execution_count": 61,
   "metadata": {},
   "outputs": [],
   "source": [
    "with open(\"./data/processed/ace/train.json\", \"w\") as f:\n",
    "    for idx in select:\n",
    "        f.write(json.dumps(raw_data[idx]) + \"\\n\")\n",
    "                "
   ]
  },
  {
   "cell_type": "code",
   "execution_count": 4,
   "metadata": {},
   "outputs": [],
   "source": [
    "data = load(\"../CFED-HANet/data_incremental_2/ACE/ACE_5task_2way_1shot.train.jsonl\")"
   ]
  },
  {
   "cell_type": "code",
   "execution_count": 6,
   "metadata": {},
   "outputs": [
    {
     "name": "stdout",
     "output_type": "stream",
     "text": [
      "no phones, no e - mail, letters are the only link to home.\n",
      "we renewed our vows on carnival conquest on 10 / 31 / 2004 - you need to contact carnival wedding department and ask if they have any wedding / renewal packages available.\n",
      "an old friend, joseph britt of kennesaw, ga, recently emailed to ask about anti - immigration as an issue for virginia democrats.\n",
      "and you see apache helicopter pilot and his wife michelle who was talking with us on the telephone the sunday morning when the video came in of the rescue of the p. o. w. s and she was able to tell us on the telephone as we had those pictures up on air, she identified her husband and life just got better and better for her after that.\n",
      "time now for ` ` fireback,'' where our wacky and kooky fans and friends and critics right in.\n",
      "i have contacted the uacc and told them about it so they can check the auctions - lrb - she's been doing this a long time - rrb - and to tell me if she's actually a registered member.\n",
      "different ranks, different anxieties, but all are hoping, by the time their letters get back to the u. s., they too will soon be heading home.\n",
      "he got on a flight to an undisclosed location, when jamie got a second phone call from a flight attendant.\n",
      "he joins us now from washington.\n",
      "he wants to call his mom in houston.\n",
      "it was said to be saddam hussein's response to a letter from his niece.\n",
      "i was on the phone with michelle williams yesterday, when she saw those first pictures on cnn of her husband, and she sleeked with delight.\n",
      "i think what he wrote me about was the fact that the inter - agency process, where we have all these fbi and department of justice and cia and dia, and what have you, involved in interrogating these detainees, it takes time to find out what intelligence they have.\n",
      "this time, they hope the sailors will write back with answers to their questions.\n",
      "joining us on the phone is the mayor of jackson, tennessee, charles farmer.\n",
      "he sent several letters to the police and the media during that time.\n",
      "in his previous letter home, apache pilot joe bruhl didn't tell his family the full details about his first combat mission.\n",
      "no phones, no e - mail, letters are the only link to home.\n",
      "and you see apache helicopter pilot and his wife michelle who was talking with us on the telephone the sunday morning when the video came in of the rescue of the p. o. w. s and she was able to tell us on the telephone as we had those pictures up on air, she identified her husband and life just got better and better for her after that.\n",
      "time now for ` ` fireback,'' where our wacky and kooky fans and friends and critics right in.\n",
      "reporter : along with the picture, the flight attendant wrote a letter saying she was prague for jack's safe return.\n",
      "chad hensley, from fairfax, virginia, writes, ` ` france, russia and german have all multi - billion dollar oil deals with saddam in iraq.\n",
      "during a brief phone call with their son from kuwait on surngd the arm asked the young family not to get into any specific details about what happened during their son's capture and release.\n",
      "i've talked to people from pennsylvania, yes.\n",
      "letter writing, you know, is sometimes called a lost art in this age of electronic communication.\n",
      "reporter : along with the picture, the flight attendant wrote a letter saying she was prague for jack's safe return.\n",
      "i talked to secretary powell this morning on the phone a bit, and it's not, i think you need to let the dust settle on that.\n",
      "greg lynch says that when he talked to his daughter she hadn't eaten in eight days and was quite hungry.\n",
      "william writes this - - please continue to write to us.\n",
      "stinnett, who was eight months pregnant, had earlier been talking with her mother on the phone, and hung up saying a woman she had chatted with online had just arrived at her door, authorities said.\n",
      "i think we may have talked before.\n",
      "u. s. defense secretary donald h. rumsfeld discussed the resolution with prime minister tony blair and defense secretary geoff hoon on friday as rumsfeld returned from a tour of iraq, afghanistan and the persian gulf region.\n",
      "i don't think that's quite accurate as to what he wrote me about.\n",
      "reporter : jamie is not the only military wife who received a photo and letter.\n",
      "and thank you very much to your students for all the support and the letters that they sent out to us.\n",
      "call carnival wedding dept.\n",
      "i think we may have talked before.\n",
      "everyone wanted to call.\n",
      "you can bet they are figuring out who they should have call next time.\n",
      "ok guys, sorry for the long e - mail and the rambling, but i want to make sure that i have everything covered.\n",
      "it will have to be snail mail - rrb -, give her a call at the center, or send her a fax and welcome her to our center.\n",
      "it's too bad those noaa people hadn't used the telephone.\n",
      "don from denver, colorado writes, ` ` paul, you keep referencing halliburton selling equipment to iraq'' - - which i do.\n",
      "we read all of your e - mail.\n",
      "it's too bad those noaa people hadn't used the telephone.\n",
      "once again, we're trying to get ahold of our mike hanna, who was just with us on the phone.\n",
      "they'll also be taking your phone calls.\n",
      "that's sort of unusual in these calls, in my experience so far.\n",
      "ok guys, sorry for the long e - mail and the rambling, but i want to make sure that i have everything covered.\n",
      "- lrb - voice - over - rrb - : but among the boats, guns, radar, sonar and communications, we found a secret weapon posted on the side of the tent that serves as the command center : letters from second - graders.\n",
      "those letters important at both ends.\n",
      "i was on the phone with michelle williams yesterday, when she saw those first pictures on cnn of her husband, and she sleeked with delight.\n",
      "i haven't received mail in two days.\n",
      "you can e - mail us - - this done count, sorry.\n",
      "also, let me know who you have already contacted and set up a meeting with so that i can make sure we don't call them twice.\n",
      "ok guys, sorry for the long e - mail and the rambling, but i want to make sure that i have everything covered.\n",
      "because somebody had - - called the news people.\n",
      "call carnival wedding dept.\n",
      "she wants to call her pregnant daughter saba - lrb - ph - rrb - in sweden to see if she has delivered.\n",
      "everyone wanted to call.\n",
      "stinnett, who was eight months pregnant, had earlier been talking with her mother on the phone, and hung up saying a woman she had chatted with online had just arrived at her door, authorities said.\n",
      "reporter : then the baby's mother made a frantic call to police.\n",
      "u. s. attorney todd graves said montgomery contacted stinnett through an online message board, and authorities zeroed in on her using computer forensics.\n",
      "couriers delivered the letters to locations including africa, asia and the middle east.\n",
      "this evening, about 8 : 45 p. m., members of my fugitive unit received a telephone call from an informtive saying they thought that they had observed the suspect derrick lee in the area of woods drive and donald lee holland parkway in southwest atlanta.\n",
      "i plan to call her this morning and tell her the total, complete with my rental car for a week.\n",
      "he sent several letters to the police and the media during that time.\n",
      "once again, we're trying to get ahold of our mike hanna, who was just with us on the phone.\n",
      "time now for ` ` fireback,'' where our wacky and kooky fans and friends and critics right in.\n",
      "did you know that one of the largest media companies in the country was in the business of bringing you ` ` political public service messages?''\n",
      "she wants to call her pregnant daughter saba - lrb - ph - rrb - in sweden to see if she has delivered.\n",
      "reporter : jamie is not the only military wife who received a photo and letter.\n",
      "i don't think that's quite accurate as to what he wrote me about.\n",
      "we read all of your e - mail.\n",
      "he sent several letters to the police and the media during that time.\n",
      "in his previous letter home, apache pilot joe bruhl didn't tell his family the full details about his first combat mission.\n",
      "i haven't received mail in two days.\n",
      "it's too bad those noaa people hadn't used the telephone.\n",
      "baxley held up a stack of more than 800 e - mails from floridians who he said have written him to support the bill.\n",
      "some u. s. troops have not had a chance to call home since they were deployed for duty in ` ` operation iraqi freedom.''\n",
      "he joins us now from washington.\n",
      "i was on the phone with michelle williams yesterday, when she saw those first pictures on cnn of her husband, and she sleeked with delight.\n",
      "her second - graders were very interested in sending some letters out to the troops.\n",
      "cnn learned the al qaeda leader sent personal letters to key operatives in february, ordering them to attack the united states and its allies.\n",
      "intelligence sources say the correspondence came from the border between pakistan and afghanistan, where osama bin laden is believed to be hiding.\n",
      "no phones, no e - mail, letters are the only link to home.\n",
      "the farc sought the exchange of more than 70 politicians, soldiers and policemen in its control for nearly 500 rebels imprisoned by the government, said luis devia, also known as raul reyes, a farc leader, in a letter sent to the program noticias uno.\n",
      "baxley held up a stack of more than 800 e - mails from floridians who he said have written him to support the bill.\n",
      "stinnett, who was eight months pregnant, had earlier been talking with her mother on the phone, and hung up saying a woman she had chatted with online had just arrived at her door, authorities said.\n",
      "stinnett, who was eight months pregnant, had earlier been talking with her mother on the phone, and hung up saying a woman she had chatted with online had just arrived at her door, authorities said.\n",
      "i - - i'm calling you from new york city, paul, it's a pleasure to meet you.\n",
      "i don't think that's quite accurate as to what he wrote me about.\n",
      "all the guests were folks who had met the bride and groom - lrb - an attractive young couple who were sailing alone - rrb - virtually on cruisecritic.\n",
      "i'm chewing gum and talking on the phone while writing this note.''\n",
      "is that - - is that the one where somebody called a news -\n",
      "they talked by videophone this morning.\n",
      "we love hearing from you.\n",
      "while she was on the phone, he picked up the child again and this time threw her out the window.\n",
      "you can bet they are figuring out who they should have call next time.\n",
      "i'm chewing gum and talking on the phone while writing this note.''\n",
      "they flew to seoul on sunday to brief south korean officials on their northern trip.\n",
      "the army's 173rd airborne brigade, including elite army rangers, jumped out of low - flying c - 17 transport planes under cover of darkness wednesday and secured a snow - dusted airfield, which will be used to bring in supplies and support personnel.\n",
      "according to other reports reaching here, five syrian bus passengers were killed and 10 others were injured on sunday morning when a us missile hit the bus they were traveling in near the iraqi border.\n",
      "and what we're finding now is that the emergency rooms are closing, trauma centers are closing, pregnant women can't find a doctor to deliver the baby, a boy knocked unconscious has to be transported to another state.\n",
      "we're going over there, we're saying, look, this is how we do it - - and, um, i - - - so we think everybody else should be that way.\n",
      "melony marshall was married just a month before she left for iraq.\n",
      "turkey has said it may send more troops into northern iraq to prevent refugees from moving north, while u. s. officials have said they advised turkey against sending large additional forces into northern iraq.\n",
      "as we watched this picture of the air force one getting into this airport i want to bring in our military analyst general dan crisman to go over what happens happening in baghdad.\n",
      "up next, a report on the president's trip to camp lejeune, and a look at how the camp lejeune community is coping with the challenges of war.\n",
      "the nasa and the european space agency both launch missions to mars this month sending rovers and ashters to probe the red planet.\n",
      "records appear to show that 50000 _ men _ were convicted of homosexuality during the nazi rule, finding out how many were sent to a camp and killed there is more difficult especially as some who were sent to normal jails were transferred to camps at the end of their sentence, but 10 - 15k seems reasonable\n",
      "putin and his wife left for the official reception that you're seeing now here in central london.\n",
      "powell is wrapping up a trip to southeast asia, he's due here in jerusalem tomorrow morning for talks with the israeli prime minister and the foreign minister.\n",
      "armed coalition soldiers moving toward a venerated mosque at the request of a muslim cleric, but angry locals who didn't understand what they were trying to do.\n",
      "well, the homeless people - - i guess, they need their shopping cart, so they kind of went elsewhere, so - - um - - i mean it's a small thing, but it was, they just figured out, they were - - you know, uh - - learning from experience on what they need to do in the - - city and - - i think he would be a good - - candidate for the homeland security, running that.\n",
      "cops say he allegedly kidnapped her in his car and threatened her but eventually brought her back to her home.\n",
      "well, it is our turn to meet the kramers back in the u. s. after their journey to china to bring home the newest and cutest perhaps, member of their family, in los angeles, the proud parents of 11 mnth abigail kramer.\n",
      "they're heading to quinn joe.\n",
      "he - - after landing and taking a brief tour of part of the ship, he also went out on to the flight deck and observed some of the flight operations of some of the f - 18 aircraft that are now leaving these aircraft, headed to lamore after this 10 - month long deploy am.\n",
      "however, the two carriers operating out of pearl at the moment were sent west with light escort, on possibly intersecting routes with the ijn kido butai, which had far more carriers and a far heavier escort.\n",
      "one of the big questions about mars is when or whether humans will ever be able to visit.\n",
      "the army's 3rd infantry has punched through karbala, meeting only light resistance from the medina republican guard, and moving along highway nine within 25 miles of baghdad.\n",
      "i just think about all the family members sitting at home, sitting on the dock looking at this boat coming in.\n",
      "as we watched this picture of the air force one getting into this airport i want to bring in our military analyst general dan crisman to go over what happens happening in baghdad.\n",
      "chalabi was the first top iraqi opposition leader to be airlifted by the u. s. military into southern iraq as the fighting wound down, and he and other top members of his group plan to meet soon in baghdad.\n",
      "it lies just 12 miles from baghdad and will be a key forward base for u. s. troops as they prepare for a push on the capital.\n",
      "ocalan was moved by the government to its embassy compound in kenya, where he was captured by turkish commandos.\n",
      "so what's the difficulty in being able to go to mars?\n",
      "you're telling me someone was able to take an ak - 47 ` ` assault rifle'' into a mall and injure people?!\n",
      "some army units routed iraqi fighters from a republican guard headquarters inside the capital.\n",
      "that's the only byrd pork project i have ever visited.\n",
      "a reminder, jessica lynch coming back to the united states within the hour.\n",
      "we are not expecting to drive into baghdad suddenly and seize it in a coup de mains, or anything like that.\n",
      "they moved the soldier to a medvac vehicle via two - man litter carry.\n",
      "nine scanners, developed locally for military purposes, were placed at singapore's changi airport last week to check people arriving from sars - affected countries.\n",
      "the man was arrested there after authorities say he hijacked a cuban plane using what was reported to be grenades, ordering the pilots to fly to florida.\n",
      "i don't know about the rest of you but i think that in the next few weeks i will be moving supplies and equipment to my site in eastern oregon.\n",
      "he was sent over right next to the persian gulf now since new year's eve.\n",
      "- well, my sister usually comes in from ohio because it's not that far like - - two hundred fifty miles or something, and she'll come in for thanksgiving.\n",
      "palestinians and their dovish israeli allies routinely use the word ` ` occupation'' when demanding that israel leave the west bank and gaza and dismantle jewish settlements.\n",
      "others are down to 50 percent, but there's still one or two divisions around 75, 80, 90 percent of their fighting strength, and they could still put up very stiff resistance, indeed, when the american forces get en masse to baghdad itself.\n",
      "reporter : the twin missions to hunt for signs of life are set for a journey of a quarter billion miles, carrying identical red planet rovers.\n",
      "originally the central command said the veteran fox news correspond was being expelled because he compromised the location of the unit he's been embedded with.\n",
      "it was to begin the six - hour journey into umm qasr on wednesday, according to a pool report.\n",
      "through multinational middlemen, de lozada resigned and fled the country on october 17, 2003.\n",
      "yeah, and they c - the come home to nothing after g - all they've gone through they come home and they have nothing.\n",
      "a russian soyuz capsule dropped them off this morning after docking perfectly at the orbiting outpost.\n",
      "the people of tikrit are saying saddam's family left that city three days ago, well before the americans arrived.\n",
      "police intercepted 33 african immigrants who came ashore thursday in southern spain aboard an overcrowded boat, including several pregnant women and other travelers suffering from hypothermia, police said.\n",
      "after many minutes lying motionless on the field, ferguson was finally removed via stretcher, giving a thumbs up to the crowd on the way out.\n",
      "his private plane arrived at heathrow airport.\n",
      "he got on a flight to an undisclosed location, when jamie got a second phone call from a flight attendant.\n",
      "i've been to your lovely state once before, down in the hollers.\n",
      "well, when they do finally enter baghdad, u. s. and coalition troops could face urban combat with the republican guard, some of whom may have withdrawn into the city.\n",
      "the hospital obviously knew that your friend was having head problems, and they improperly treated him by not sending him to a psych ward, which allowed the situation to get worse until the point where he assaulted someone.\n",
      "i know that was what happened with my own parents, largely because their decision to get married and my father's decision to join the church came very close together, and they didn't want to wait the year until he would be able to enter the temple.\n",
      "you might want to drop off the car somewhere near red bank, or as soon as you arrive in new york, if the drop off charges aren't too much.\n",
      "my kids, uh, kids and their kids come, all but one of them.\n",
      "tens of thousands of destitute africans try to enter spain illegally each year by crossing the perilous strait of gibraltar to reach the southern mainland or by sailing northwest to the canary islands out in the atlantic.\n",
      "the man was arrested there after authorities say he hijacked a cuban plane using what was reported to be grenades, ordering the pilots to fly to florida.\n",
      "it was the first unit to cross the euphrates river and then punch northward to within 60 miles of baghdad.\n",
      "records appear to show that 50000 _ men _ were convicted of homosexuality during the nazi rule, finding out how many were sent to a camp and killed there is more difficult especially as some who were sent to normal jails were transferred to camps at the end of their sentence, but 10 - 15k seems reasonable\n",
      "to mark his historic climb to the top of mt.\n",
      "a russian soyuz capsule dropped them off this morning after docking perfectly at the orbiting outpost.\n",
      "british desert rats went into the city of 1. 3 million with more than three dozen tanks and armored cars, a column similar in size to the american unit that probed suburban baghdad.\n",
      "in fact, we just got back from disney world, you know, about an hour ago and they're down there and they're but they're both, uh,\n",
      "in addition to that, we know that further back behind those lines in the direction of mosul there is heavy artillery and tanks as well, this according to the people here in this area, the local kurds who have been going across the lines for many years basically engaged in smuggling.\n",
      "well, as american forces do push ahead toward the iraqi government's key center of power, british forces are keeping up their work to the south of the iraqi capital.\n",
      "the waiver of extradition that she signed simply means that if she skips out and goes to another state, she can't contest the right of the original court to have her hauled back to its jurisdiction, and that the court won't have to initiate the time - consuming process of extraditing her.\n",
      "we anticipate in a matter of moments, the secretary of defense, donald rumsfeld, to arrive inside of this hangar and we'll carry his speech live when that gets underway.\n",
      "mostly small arms fire, but the sand storm has enabled the iraqis to come very close to the road, and if i sound a little nervous, it's because we're in the soft skin vehicle and everybody else is in armor.\n",
      "barnie, have you ever been to the national conservation and training center near shepherdstown, wva?\n",
      "there will be additional random inspections of vehicles and potentially, depending on the airport, some limitations of indegrees and egress into the airport.\n",
      "are you coming here?\n",
      "iraqi soldiers fled these positions in a hurry, under the onslaught of coalition bombing.\n",
      "nine scanners, developed locally for military purposes, were placed at singapore's changi airport last week to check people arriving from sars - affected countries.\n",
      "the north retaliated by withdrawing from the nuclear non - proliferation treaty, expelling u. n. inspectors and restarting a plutonium - producing reactor.\n",
      "he didn't get his papers where he's going to be c - - - he's in upstate new york right now but he's going to - - have to probably go back to - to either iraq or af - afghanistan.\n",
      "u. s. defense secretary donald h. rumsfeld discussed the resolution with prime minister tony blair and defense secretary geoff hoon on friday as rumsfeld returned from a tour of iraq, afghanistan and the persian gulf region.\n",
      "the only few travel agencies still organizing visits to the middle east have increased their prices by 500 to 600 yuan - lrb - 60 to 72 us dollars - rrb -.\n",
      "he - - after landing and taking a brief tour of part of the ship, he also went out on to the flight deck and observed some of the flight operations of some of the f - 18 aircraft that are now leaving these aircraft, headed to lamore after this 10 - month long deploy am.\n",
      "as the trucks lumbered past blasted buildings on the iraq - kuwait border, an iraqi boy of about 10 pointed to his mouth and shouted ` ` eat, eat!''\n",
      "every wednesday, we go down to the uh river bank park.\n",
      "they say they're looking forward to going home, which relatives of one former p. o. w.\n",
      "we * just * got back into washington last evening, after our brief 5 - day trip to london.\n",
      "she has no idea where her husband is now, but thanks to a little help from a delta flight attendant, she knew he got where he was going.\n",
      "he was sent to another hospital with a psych unit until his psychosis resolved.\n",
      "i am tired, hungry, and i leave for work and get home from work in the dark.\n",
      "happily watching tom and jerry on his mini television, his transformation from the pain - racked boy who left baghdad.\n",
      "u. s. marines entered southeastern baghdad today and found dozens of chemical suits masks and atropine injecters.\n",
      "dramatic rescue and then a return home.\n",
      "every wednesday, we go down to the uh river bank park.\n",
      "but, uh, at at least for the ceremony in egypt i think, uh, i can understand that no one would want to go into - - palestinian territory.\n",
      "in trucks and on foot they came to the town of safwan.\n",
      "as u. s. columns moved northeast along the tigris river, iraqis fled along its banks and some jumped in the water.\n",
      "dramatic rescue and then a return home.\n",
      "it was the first unit to cross the euphrates river and then punch northward to within 60 miles of baghdad.\n",
      "ankara police chief ercument yilmaz visited the site of the morning blast but refused to say if a bomb had caused the explosion.\n",
      "the man was arrested there after authorities say he hijacked a cuban plane using what was reported to be grenades, ordering the pilots to fly to florida.\n",
      "for the next 12 hours into the morning, planes from the carrier will fly missions over afghanistan.\n"
     ]
    }
   ],
   "source": [
    "for key in data[0].keys():\n",
    "    for row in data[0][key]:\n",
    "        print(tokenizer.decode(row[\"piece_ids\"], skip_special_tokens=True))"
   ]
  },
  {
   "cell_type": "code",
   "execution_count": null,
   "metadata": {},
   "outputs": [],
   "source": []
  }
 ],
 "metadata": {
  "kernelspec": {
   "display_name": ".venv",
   "language": "python",
   "name": "python3"
  },
  "language_info": {
   "codemirror_mode": {
    "name": "ipython",
    "version": 3
   },
   "file_extension": ".py",
   "mimetype": "text/x-python",
   "name": "python",
   "nbconvert_exporter": "python",
   "pygments_lexer": "ipython3",
   "version": "3.10.11"
  }
 },
 "nbformat": 4,
 "nbformat_minor": 2
}
